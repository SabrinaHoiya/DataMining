{
 "cells": [
  {
   "cell_type": "markdown",
   "metadata": {
    "slideshow": {
     "slide_type": "slide"
    }
   },
   "source": [
    "<center><h1> <span style=\"color:red\">\" TD3 :Decision Tree \"</span> </h1></center>\n",
    "\n",
    "## Réaliser par : \n",
    " <ul>\n",
    "<li> <i> Sabrine HOIYA 3 DNI 2 </i> </li>\n",
    "    </ul>"
   ]
  },
  {
   "cell_type": "markdown",
   "metadata": {
    "slideshow": {
     "slide_type": "slide"
    }
   },
   "source": [
    "<div class=\"alert alert-block alert-danger\"> <span style=\"color:#800000\">Exercice 1 :</span> </div>"
   ]
  },
  {
   "cell_type": "markdown",
   "metadata": {
    "slideshow": {
     "slide_type": "slide"
    }
   },
   "source": [
    "<center><h6> <span style=\"color:black\">Consider the training examples shown in Table for a binary classification problem.</span> </h6></center>\n",
    "\n",
    "\n",
    "<center><img src=\"tableau.png\"/></center>"
   ]
  },
  {
   "cell_type": "markdown",
   "metadata": {
    "slideshow": {
     "slide_type": "slide"
    }
   },
   "source": [
    "<center><h6> <span style=\"color:black\">(a) Compute the Gini index for the overall collection of training examples.</span> </h6></center>\n",
    "<center><img src=\"a.png\"/> </center>\n"
   ]
  },
  {
   "cell_type": "markdown",
   "metadata": {
    "slideshow": {
     "slide_type": "slide"
    }
   },
   "source": [
    "<center><h6> <span style=\"color:black\">(b) Compute the Gini index for the Customer ID attribute.</span> </h6></center>\n",
    "<center><img src=\"b.png\"/> </center>\n",
    "\n"
   ]
  },
  {
   "cell_type": "markdown",
   "metadata": {
    "slideshow": {
     "slide_type": "slide"
    }
   },
   "source": [
    "<center><h6> <span style=\"color:black\">(c) Compute the Gini index for the Gender attribute.</span> </h6></center>\n",
    "<center><img src=\"c.png\"/> </center>"
   ]
  },
  {
   "cell_type": "markdown",
   "metadata": {
    "slideshow": {
     "slide_type": "slide"
    }
   },
   "source": [
    "<center><h6> <span style=\"color:black\">(d) Compute the Gini index for the Car Type attribute using multiway split.</span> </h6></center>\n",
    "<center><img src=\"d.png\"/> </center>"
   ]
  },
  {
   "cell_type": "markdown",
   "metadata": {
    "slideshow": {
     "slide_type": "slide"
    }
   },
   "source": [
    "<center><h6> <span style=\"color:black\">(e) Compute the Gini index for the Shirt Size attribute using multiway split.</span> </h6></center>\n",
    "<center><img src=\"e.png\"/> </center>"
   ]
  },
  {
   "cell_type": "markdown",
   "metadata": {
    "slideshow": {
     "slide_type": "slide"
    }
   },
   "source": [
    "<center><h6> <span style=\"color:black\">(f) Which attribute is better, Gender, Car Type, or Shirt Size?</span> </h6></center>\n",
    "\n",
    " --> When comparing Gender, Car Type, and Shirt Size using the Gini Index, Car Type would be the better attribute.  The Gini Index takes into consideration the distribution of the sample with zero reflecting the most distributed sample set.  Out of the three listed attributes, Car Type has the lowest Gini Index.\n"
   ]
  },
  {
   "cell_type": "markdown",
   "metadata": {
    "slideshow": {
     "slide_type": "slide"
    }
   },
   "source": [
    "<center><h6> <span style=\"color:black\">(g) Explain why Customer ID should not be used as the attribute test condition even though it has the lowest Gini.\n",
    "</span> </h6></center>\n",
    "Customer ID should not be used as the attribute test condition because each attribute is unique."
   ]
  },
  {
   "cell_type": "markdown",
   "metadata": {
    "slideshow": {
     "slide_type": "slide"
    }
   },
   "source": [
    "<div class=\"alert alert-block alert-danger\"> <span style=\"color:#800000\">Exercice 2 :</span> </div>"
   ]
  },
  {
   "cell_type": "markdown",
   "metadata": {
    "slideshow": {
     "slide_type": "slide"
    }
   },
   "source": [
    "<center><h6> <span style=\"color:black\">Consider the training examples shown in Table for a binary classification problem.</span> </h6></center>\n",
    "\n",
    "\n",
    "<center><img src=\"tableau1.png\"/></center>\n"
   ]
  },
  {
   "cell_type": "markdown",
   "metadata": {
    "slideshow": {
     "slide_type": "slide"
    }
   },
   "source": [
    "<center><h6> <span style=\"color:black\">(a) What is the entropy of this collection of training examples with respect to the positive class?</span> </h6></center>\n",
    "<center><img src=\"a1.png\"/> </center>"
   ]
  },
  {
   "cell_type": "markdown",
   "metadata": {
    "slideshow": {
     "slide_type": "slide"
    }
   },
   "source": [
    "<center><h6> <span style=\"color:black\">(b) What are the information gains of a1 and a2 relative to these training examples?</span> </h6></center>\n",
    "<center><img src=\"b1.png\"/> </center>\n"
   ]
  },
  {
   "cell_type": "markdown",
   "metadata": {
    "slideshow": {
     "slide_type": "slide"
    }
   },
   "source": [
    "<center><h6> <span style=\"color:black\">(c) For a3, which is a continuous attribute, compute the information gain for every possible split.</span> </h6></center>\n",
    "<center><img src=\"c1.png\"/> </center>\n",
    "<center><img src=\"c2.jpg\"/> </center>\n",
    "\n"
   ]
  },
  {
   "cell_type": "markdown",
   "metadata": {
    "slideshow": {
     "slide_type": "slide"
    }
   },
   "source": [
    "<center><h6> <span style=\"color:black\">(d) What is the best split (between a1, a2, and a3) according to the information gain?</span> </h6></center>\n",
    "-->\n",
    "According to the information gain, the best split is a1 due to its higher gain in comparison to a2 and a3."
   ]
  },
  {
   "cell_type": "markdown",
   "metadata": {
    "slideshow": {
     "slide_type": "slide"
    }
   },
   "source": [
    "<center><h6> <span style=\"color:black\">(e) What is the best split (between a1, and a2) according to the classification error rate?\n",
    "</span> </h6></center>\n",
    "-->\n",
    "According to the classificiation error rate, the best split is a1 due to a lower classification error in comparison to a2.  The classification error depicts the accuracy of the sample set; the higher the classifiaction error the more error the sample set contains.\n",
    "<center><img src=\"e1.jpg\"/> </center>\n"
   ]
  },
  {
   "cell_type": "markdown",
   "metadata": {
    "slideshow": {
     "slide_type": "slide"
    }
   },
   "source": [
    "<center><h6> <span style=\"color:black\">(f) What is the best split (between a1 and a2) according to the Gini index?\n",
    "\n",
    "</span> </h6></center>\n",
    "-->\n",
    "According to the Gini index, the best split is a1 due to its lower value in comparison to a2 depicting that a1 has a more even distribution.\n",
    "\n",
    "<center><img src=\"f1.jpg\"/> </center>\n"
   ]
  }
 ],
 "metadata": {
  "celltoolbar": "Slideshow",
  "kernelspec": {
   "display_name": "Python 3",
   "language": "python",
   "name": "python3"
  },
  "language_info": {
   "codemirror_mode": {
    "name": "ipython",
    "version": 3
   },
   "file_extension": ".py",
   "mimetype": "text/x-python",
   "name": "python",
   "nbconvert_exporter": "python",
   "pygments_lexer": "ipython3",
   "version": "3.8.3"
  }
 },
 "nbformat": 4,
 "nbformat_minor": 4
}
